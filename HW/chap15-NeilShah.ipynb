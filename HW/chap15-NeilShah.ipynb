{
 "cells": [
  {
   "cell_type": "markdown",
   "metadata": {},
   "source": [
    "# Modeling and Simulation in Python\n",
    "\n",
    "Chapter 15\n",
    "\n",
    "Copyright 2017 Allen Downey\n",
    "\n",
    "License: [Creative Commons Attribution 4.0 International](https://creativecommons.org/licenses/by/4.0)\n"
   ]
  },
  {
   "cell_type": "code",
   "execution_count": 1,
   "metadata": {},
   "outputs": [],
   "source": [
    "# Configure Jupyter so figures appear in the notebook\n",
    "%matplotlib inline\n",
    "\n",
    "# Configure Jupyter to display the assigned value after an assignment\n",
    "%config InteractiveShell.ast_node_interactivity='last_expr_or_assign'\n",
    "\n",
    "# import functions from the modsim.py module\n",
    "from modsim import *"
   ]
  },
  {
   "cell_type": "markdown",
   "metadata": {},
   "source": [
    "### The coffee cooling problem\n",
    "\n",
    "I'll use a `State` object to store the initial temperature.\n"
   ]
  },
  {
   "cell_type": "code",
   "execution_count": 2,
   "metadata": {},
   "outputs": [
    {
     "data": {
      "text/html": [
       "<div>\n",
       "<style scoped>\n",
       "    .dataframe tbody tr th:only-of-type {\n",
       "        vertical-align: middle;\n",
       "    }\n",
       "\n",
       "    .dataframe tbody tr th {\n",
       "        vertical-align: top;\n",
       "    }\n",
       "\n",
       "    .dataframe thead th {\n",
       "        text-align: right;\n",
       "    }\n",
       "</style>\n",
       "<table border=\"1\" class=\"dataframe\">\n",
       "  <thead>\n",
       "    <tr style=\"text-align: right;\">\n",
       "      <th></th>\n",
       "      <th>values</th>\n",
       "    </tr>\n",
       "  </thead>\n",
       "  <tbody>\n",
       "    <tr>\n",
       "      <th>T</th>\n",
       "      <td>90</td>\n",
       "    </tr>\n",
       "  </tbody>\n",
       "</table>\n",
       "</div>"
      ],
      "text/plain": [
       "T    90\n",
       "dtype: int64"
      ]
     },
     "execution_count": 2,
     "metadata": {},
     "output_type": "execute_result"
    }
   ],
   "source": [
    "init = State(T=90)"
   ]
  },
  {
   "cell_type": "markdown",
   "metadata": {},
   "source": [
    "And a `System` object to contain the system parameters."
   ]
  },
  {
   "cell_type": "code",
   "execution_count": 3,
   "metadata": {},
   "outputs": [
    {
     "data": {
      "text/html": [
       "<div>\n",
       "<style scoped>\n",
       "    .dataframe tbody tr th:only-of-type {\n",
       "        vertical-align: middle;\n",
       "    }\n",
       "\n",
       "    .dataframe tbody tr th {\n",
       "        vertical-align: top;\n",
       "    }\n",
       "\n",
       "    .dataframe thead th {\n",
       "        text-align: right;\n",
       "    }\n",
       "</style>\n",
       "<table border=\"1\" class=\"dataframe\">\n",
       "  <thead>\n",
       "    <tr style=\"text-align: right;\">\n",
       "      <th></th>\n",
       "      <th>values</th>\n",
       "    </tr>\n",
       "  </thead>\n",
       "  <tbody>\n",
       "    <tr>\n",
       "      <th>init</th>\n",
       "      <td>T    90\n",
       "dtype: int64</td>\n",
       "    </tr>\n",
       "    <tr>\n",
       "      <th>volume</th>\n",
       "      <td>300</td>\n",
       "    </tr>\n",
       "    <tr>\n",
       "      <th>r</th>\n",
       "      <td>0.01</td>\n",
       "    </tr>\n",
       "    <tr>\n",
       "      <th>T_env</th>\n",
       "      <td>22</td>\n",
       "    </tr>\n",
       "    <tr>\n",
       "      <th>t_0</th>\n",
       "      <td>0</td>\n",
       "    </tr>\n",
       "    <tr>\n",
       "      <th>t_end</th>\n",
       "      <td>30</td>\n",
       "    </tr>\n",
       "    <tr>\n",
       "      <th>dt</th>\n",
       "      <td>1</td>\n",
       "    </tr>\n",
       "  </tbody>\n",
       "</table>\n",
       "</div>"
      ],
      "text/plain": [
       "init      T    90\n",
       "dtype: int64\n",
       "volume                     300\n",
       "r                         0.01\n",
       "T_env                       22\n",
       "t_0                          0\n",
       "t_end                       30\n",
       "dt                           1\n",
       "dtype: object"
      ]
     },
     "execution_count": 3,
     "metadata": {},
     "output_type": "execute_result"
    }
   ],
   "source": [
    "coffee = System(init=init,\n",
    "                volume=300,\n",
    "                r=0.01,\n",
    "                T_env=22,\n",
    "                t_0=0,\n",
    "                t_end=30,\n",
    "                dt=1)"
   ]
  },
  {
   "cell_type": "markdown",
   "metadata": {},
   "source": [
    "The update function implements Newton's law of cooling."
   ]
  },
  {
   "cell_type": "code",
   "execution_count": 4,
   "metadata": {},
   "outputs": [],
   "source": [
    "def update_func(state, t, system):\n",
    "    \"\"\"Update the thermal transfer model.\n",
    "    \n",
    "    state: State (temp)\n",
    "    t: time\n",
    "    system: System object\n",
    "    \n",
    "    returns: State (temp)\n",
    "    \"\"\"\n",
    "    r, T_env, dt = system.r, system.T_env, system.dt\n",
    "    \n",
    "    T = state.T\n",
    "    T += -r * (T - T_env) * dt\n",
    "    \n",
    "    return State(T=T)"
   ]
  },
  {
   "cell_type": "markdown",
   "metadata": {},
   "source": [
    "Here's how it works."
   ]
  },
  {
   "cell_type": "code",
   "execution_count": 5,
   "metadata": {},
   "outputs": [
    {
     "data": {
      "text/html": [
       "<div>\n",
       "<style scoped>\n",
       "    .dataframe tbody tr th:only-of-type {\n",
       "        vertical-align: middle;\n",
       "    }\n",
       "\n",
       "    .dataframe tbody tr th {\n",
       "        vertical-align: top;\n",
       "    }\n",
       "\n",
       "    .dataframe thead th {\n",
       "        text-align: right;\n",
       "    }\n",
       "</style>\n",
       "<table border=\"1\" class=\"dataframe\">\n",
       "  <thead>\n",
       "    <tr style=\"text-align: right;\">\n",
       "      <th></th>\n",
       "      <th>values</th>\n",
       "    </tr>\n",
       "  </thead>\n",
       "  <tbody>\n",
       "    <tr>\n",
       "      <th>T</th>\n",
       "      <td>89.32</td>\n",
       "    </tr>\n",
       "  </tbody>\n",
       "</table>\n",
       "</div>"
      ],
      "text/plain": [
       "T    89.32\n",
       "dtype: float64"
      ]
     },
     "execution_count": 5,
     "metadata": {},
     "output_type": "execute_result"
    }
   ],
   "source": [
    "update_func(init, 0, coffee)"
   ]
  },
  {
   "cell_type": "markdown",
   "metadata": {},
   "source": [
    "Here's a version of `run_simulation` that uses `linrange` to make an array of time steps."
   ]
  },
  {
   "cell_type": "code",
   "execution_count": 6,
   "metadata": {},
   "outputs": [],
   "source": [
    "def run_simulation(system, update_func):\n",
    "    \"\"\"Runs a simulation of the system.\n",
    "    \n",
    "    Add a TimeFrame to the System: results\n",
    "    \n",
    "    system: System object\n",
    "    update_func: function that updates state\n",
    "    \"\"\"\n",
    "    init = system.init\n",
    "    t_0, t_end, dt = system.t_0, system.t_end, system.dt\n",
    "    \n",
    "    frame = TimeFrame(columns=init.index)\n",
    "    frame.row[t_0] = init\n",
    "    ts = linrange(t_0, t_end, dt)\n",
    "    \n",
    "    for t in ts:\n",
    "        frame.row[t+dt] = update_func(frame.row[t], t, system)\n",
    "    \n",
    "    return frame"
   ]
  },
  {
   "cell_type": "markdown",
   "metadata": {},
   "source": [
    "And here's how it works."
   ]
  },
  {
   "cell_type": "code",
   "execution_count": 7,
   "metadata": {},
   "outputs": [
    {
     "data": {
      "text/html": [
       "<div>\n",
       "<style scoped>\n",
       "    .dataframe tbody tr th:only-of-type {\n",
       "        vertical-align: middle;\n",
       "    }\n",
       "\n",
       "    .dataframe tbody tr th {\n",
       "        vertical-align: top;\n",
       "    }\n",
       "\n",
       "    .dataframe thead th {\n",
       "        text-align: right;\n",
       "    }\n",
       "</style>\n",
       "<table border=\"1\" class=\"dataframe\">\n",
       "  <thead>\n",
       "    <tr style=\"text-align: right;\">\n",
       "      <th></th>\n",
       "      <th>T</th>\n",
       "    </tr>\n",
       "  </thead>\n",
       "  <tbody>\n",
       "    <tr>\n",
       "      <th>0</th>\n",
       "      <td>90</td>\n",
       "    </tr>\n",
       "    <tr>\n",
       "      <th>1</th>\n",
       "      <td>89.32</td>\n",
       "    </tr>\n",
       "    <tr>\n",
       "      <th>2</th>\n",
       "      <td>88.6468</td>\n",
       "    </tr>\n",
       "    <tr>\n",
       "      <th>3</th>\n",
       "      <td>87.9803</td>\n",
       "    </tr>\n",
       "    <tr>\n",
       "      <th>4</th>\n",
       "      <td>87.3205</td>\n",
       "    </tr>\n",
       "    <tr>\n",
       "      <th>5</th>\n",
       "      <td>86.6673</td>\n",
       "    </tr>\n",
       "    <tr>\n",
       "      <th>6</th>\n",
       "      <td>86.0207</td>\n",
       "    </tr>\n",
       "    <tr>\n",
       "      <th>7</th>\n",
       "      <td>85.3804</td>\n",
       "    </tr>\n",
       "    <tr>\n",
       "      <th>8</th>\n",
       "      <td>84.7466</td>\n",
       "    </tr>\n",
       "    <tr>\n",
       "      <th>9</th>\n",
       "      <td>84.1192</td>\n",
       "    </tr>\n",
       "    <tr>\n",
       "      <th>10</th>\n",
       "      <td>83.498</td>\n",
       "    </tr>\n",
       "    <tr>\n",
       "      <th>11</th>\n",
       "      <td>82.883</td>\n",
       "    </tr>\n",
       "    <tr>\n",
       "      <th>12</th>\n",
       "      <td>82.2742</td>\n",
       "    </tr>\n",
       "    <tr>\n",
       "      <th>13</th>\n",
       "      <td>81.6714</td>\n",
       "    </tr>\n",
       "    <tr>\n",
       "      <th>14</th>\n",
       "      <td>81.0747</td>\n",
       "    </tr>\n",
       "    <tr>\n",
       "      <th>15</th>\n",
       "      <td>80.484</td>\n",
       "    </tr>\n",
       "    <tr>\n",
       "      <th>16</th>\n",
       "      <td>79.8991</td>\n",
       "    </tr>\n",
       "    <tr>\n",
       "      <th>17</th>\n",
       "      <td>79.3201</td>\n",
       "    </tr>\n",
       "    <tr>\n",
       "      <th>18</th>\n",
       "      <td>78.7469</td>\n",
       "    </tr>\n",
       "    <tr>\n",
       "      <th>19</th>\n",
       "      <td>78.1795</td>\n",
       "    </tr>\n",
       "    <tr>\n",
       "      <th>20</th>\n",
       "      <td>77.6177</td>\n",
       "    </tr>\n",
       "    <tr>\n",
       "      <th>21</th>\n",
       "      <td>77.0615</td>\n",
       "    </tr>\n",
       "    <tr>\n",
       "      <th>22</th>\n",
       "      <td>76.5109</td>\n",
       "    </tr>\n",
       "    <tr>\n",
       "      <th>23</th>\n",
       "      <td>75.9658</td>\n",
       "    </tr>\n",
       "    <tr>\n",
       "      <th>24</th>\n",
       "      <td>75.4261</td>\n",
       "    </tr>\n",
       "    <tr>\n",
       "      <th>25</th>\n",
       "      <td>74.8919</td>\n",
       "    </tr>\n",
       "    <tr>\n",
       "      <th>26</th>\n",
       "      <td>74.3629</td>\n",
       "    </tr>\n",
       "    <tr>\n",
       "      <th>27</th>\n",
       "      <td>73.8393</td>\n",
       "    </tr>\n",
       "    <tr>\n",
       "      <th>28</th>\n",
       "      <td>73.3209</td>\n",
       "    </tr>\n",
       "    <tr>\n",
       "      <th>29</th>\n",
       "      <td>72.8077</td>\n",
       "    </tr>\n",
       "    <tr>\n",
       "      <th>30</th>\n",
       "      <td>72.2996</td>\n",
       "    </tr>\n",
       "  </tbody>\n",
       "</table>\n",
       "</div>"
      ],
      "text/plain": [
       "          T\n",
       "0        90\n",
       "1     89.32\n",
       "2   88.6468\n",
       "3   87.9803\n",
       "4   87.3205\n",
       "5   86.6673\n",
       "6   86.0207\n",
       "7   85.3804\n",
       "8   84.7466\n",
       "9   84.1192\n",
       "10   83.498\n",
       "11   82.883\n",
       "12  82.2742\n",
       "13  81.6714\n",
       "14  81.0747\n",
       "15   80.484\n",
       "16  79.8991\n",
       "17  79.3201\n",
       "18  78.7469\n",
       "19  78.1795\n",
       "20  77.6177\n",
       "21  77.0615\n",
       "22  76.5109\n",
       "23  75.9658\n",
       "24  75.4261\n",
       "25  74.8919\n",
       "26  74.3629\n",
       "27  73.8393\n",
       "28  73.3209\n",
       "29  72.8077\n",
       "30  72.2996"
      ]
     },
     "execution_count": 7,
     "metadata": {},
     "output_type": "execute_result"
    }
   ],
   "source": [
    "results = run_simulation(coffee, update_func)"
   ]
  },
  {
   "cell_type": "markdown",
   "metadata": {},
   "source": [
    "Here's what the results look like."
   ]
  },
  {
   "cell_type": "code",
   "execution_count": 8,
   "metadata": {},
   "outputs": [
    {
     "data": {
      "image/png": "[encoded data removed]",
      "text/plain": [
       "<Figure size 432x288 with 1 Axes>"
      ]
     },
     "metadata": {},
     "output_type": "display_data"
    }
   ],
   "source": [
    "plot(results.T, label='coffee')\n",
    "decorate(xlabel='Time (minutes)',\n",
    "         ylabel='Temperature (C)')"
   ]
  },
  {
   "cell_type": "markdown",
   "metadata": {},
   "source": [
    "And here's the final temperature:"
   ]
  },
  {
   "cell_type": "code",
   "execution_count": 9,
   "metadata": {},
   "outputs": [
    {
     "data": {
      "text/plain": [
       "72.2996253904031"
      ]
     },
     "execution_count": 9,
     "metadata": {},
     "output_type": "execute_result"
    }
   ],
   "source": [
    "coffee.T_final = get_last_value(results.T)\n",
    "T_final = get_last_value(results.T)"
   ]
  },
  {
   "cell_type": "markdown",
   "metadata": {},
   "source": [
    "## Encapsulation\n",
    "\n",
    "Before we go on, let's define a function to initialize `System` objects with relevant parameters:"
   ]
  },
  {
   "cell_type": "code",
   "execution_count": 10,
   "metadata": {},
   "outputs": [],
   "source": [
    "def make_system(T_init, r, volume, t_end):\n",
    "    \"\"\"Makes a System object with the given parameters.\n",
    "\n",
    "    T_init: initial temperature in degC\n",
    "    r: heat transfer rate, in 1/min\n",
    "    volume: volume of liquid in mL\n",
    "    t_end: end time of simulation\n",
    "    \n",
    "    returns: System object\n",
    "    \"\"\"\n",
    "    init = State(T=T_init)\n",
    "                   \n",
    "    return System(init=init,\n",
    "                  r=r, \n",
    "                  volume=volume,\n",
    "                  temp=T_init,\n",
    "                  t_0=0, \n",
    "                  t_end=t_end, \n",
    "                  dt=1,\n",
    "                  T_env=22)"
   ]
  },
  {
   "cell_type": "markdown",
   "metadata": {},
   "source": [
    "Here's how we use it:"
   ]
  },
  {
   "cell_type": "code",
   "execution_count": 11,
   "metadata": {},
   "outputs": [
    {
     "data": {
      "text/plain": [
       "72.2996253904031"
      ]
     },
     "execution_count": 11,
     "metadata": {},
     "output_type": "execute_result"
    }
   ],
   "source": [
    "coffee = make_system(T_init=90, r=0.01, volume=300, t_end=30)\n",
    "results = run_simulation(coffee, update_func)\n",
    "T_final = get_last_value(results.T)"
   ]
  },
  {
   "cell_type": "markdown",
   "metadata": {},
   "source": [
    "## Exercises\n",
    "\n",
    "**Exercise:**  Simulate the temperature of 50 mL of milk with a starting temperature of 5 degC, in a vessel with the same insulation, for 15 minutes, and plot the results.\n",
    "\n",
    "By trial and error, find a value for `r` that makes the final temperature close to 20 C."
   ]
  },
  {
   "cell_type": "code",
   "execution_count": 12,
   "metadata": {},
   "outputs": [
    {
     "data": {
      "text/html": [
       "<div>\n",
       "<style scoped>\n",
       "    .dataframe tbody tr th:only-of-type {\n",
       "        vertical-align: middle;\n",
       "    }\n",
       "\n",
       "    .dataframe tbody tr th {\n",
       "        vertical-align: top;\n",
       "    }\n",
       "\n",
       "    .dataframe thead th {\n",
       "        text-align: right;\n",
       "    }\n",
       "</style>\n",
       "<table border=\"1\" class=\"dataframe\">\n",
       "  <thead>\n",
       "    <tr style=\"text-align: right;\">\n",
       "      <th></th>\n",
       "      <th>T</th>\n",
       "    </tr>\n",
       "  </thead>\n",
       "  <tbody>\n",
       "    <tr>\n",
       "      <th>0</th>\n",
       "      <td>5</td>\n",
       "    </tr>\n",
       "    <tr>\n",
       "      <th>1</th>\n",
       "      <td>5.17</td>\n",
       "    </tr>\n",
       "    <tr>\n",
       "      <th>2</th>\n",
       "      <td>5.3383</td>\n",
       "    </tr>\n",
       "    <tr>\n",
       "      <th>3</th>\n",
       "      <td>5.50492</td>\n",
       "    </tr>\n",
       "    <tr>\n",
       "      <th>4</th>\n",
       "      <td>5.66987</td>\n",
       "    </tr>\n",
       "    <tr>\n",
       "      <th>5</th>\n",
       "      <td>5.83317</td>\n",
       "    </tr>\n",
       "    <tr>\n",
       "      <th>6</th>\n",
       "      <td>5.99484</td>\n",
       "    </tr>\n",
       "    <tr>\n",
       "      <th>7</th>\n",
       "      <td>6.15489</td>\n",
       "    </tr>\n",
       "    <tr>\n",
       "      <th>8</th>\n",
       "      <td>6.31334</td>\n",
       "    </tr>\n",
       "    <tr>\n",
       "      <th>9</th>\n",
       "      <td>6.47021</td>\n",
       "    </tr>\n",
       "    <tr>\n",
       "      <th>10</th>\n",
       "      <td>6.6255</td>\n",
       "    </tr>\n",
       "    <tr>\n",
       "      <th>11</th>\n",
       "      <td>6.77925</td>\n",
       "    </tr>\n",
       "    <tr>\n",
       "      <th>12</th>\n",
       "      <td>6.93146</td>\n",
       "    </tr>\n",
       "    <tr>\n",
       "      <th>13</th>\n",
       "      <td>7.08214</td>\n",
       "    </tr>\n",
       "    <tr>\n",
       "      <th>14</th>\n",
       "      <td>7.23132</td>\n",
       "    </tr>\n",
       "    <tr>\n",
       "      <th>15</th>\n",
       "      <td>7.37901</td>\n",
       "    </tr>\n",
       "  </tbody>\n",
       "</table>\n",
       "</div>"
      ],
      "text/plain": [
       "          T\n",
       "0         5\n",
       "1      5.17\n",
       "2    5.3383\n",
       "3   5.50492\n",
       "4   5.66987\n",
       "5   5.83317\n",
       "6   5.99484\n",
       "7   6.15489\n",
       "8   6.31334\n",
       "9   6.47021\n",
       "10   6.6255\n",
       "11  6.77925\n",
       "12  6.93146\n",
       "13  7.08214\n",
       "14  7.23132\n",
       "15  7.37901"
      ]
     },
     "execution_count": 12,
     "metadata": {},
     "output_type": "execute_result"
    }
   ],
   "source": [
    "# Solution goes here\n",
    "milk = make_system(T_init=5, r=0.01, volume=50, t_end=15)\n",
    "results = run_simulation(milk, update_func)"
   ]
  },
  {
   "cell_type": "code",
   "execution_count": 13,
   "metadata": {},
   "outputs": [
    {
     "data": {
      "image/png": "[encoded data removed]",
      "text/plain": [
       "<Figure size 432x288 with 1 Axes>"
      ]
     },
     "metadata": {},
     "output_type": "display_data"
    }
   ],
   "source": [
    "plot(results.T, label='milk')\n",
    "decorate(xlabel='Time (minutes)',\n",
    "         ylabel='Temperature (C)')"
   ]
  },
  {
   "cell_type": "code",
   "execution_count": 18,
   "metadata": {},
   "outputs": [
    {
     "name": "stdout",
     "output_type": "stream",
     "text": [
      "0.01 7.379007971098095\n",
      "0.02 9.444325255028133\n",
      "0.03 11.234729784674581\n",
      "0.04 12.784531542364547\n",
      "0.05 14.124049087284192\n",
      "0.060000000000000005 15.280039421085409\n",
      "0.06999999999999999 16.276085345122556\n",
      "0.08 17.132944130806518\n",
      "0.09 17.86886101606212\n",
      "0.09999999999999999 18.499850754390966\n",
      "0.11 19.039950177213015\n",
      "0.12 19.501444483698084\n",
      "0.13 19.895069743979544\n",
      "0.14 20.23019389031005\n",
      "0.15000000000000002 20.51497827527872\n",
      "0.16 20.75652169562375\n",
      "0.17 20.960988613467283\n",
      "0.18000000000000002 21.133723153044073\n",
      "0.19 21.279350309321327\n",
      "0.2 21.40186567448986\n",
      "0.21000000000000002 21.504714868371725\n",
      "0.22 21.590863748605237\n",
      "0.23 21.662860375347844\n",
      "0.24000000000000002 21.72288961253363\n",
      "0.25 21.772821162827313\n",
      "0.26 21.814251755759834\n",
      "0.27 21.848542137576676\n",
      "0.28 21.87684944657605\n",
      "0.29000000000000004 21.900155498690445\n",
      "0.3 21.91929145433097\n",
      "0.31 21.934959288657772\n",
      "0.32 21.947750443077407\n",
      "0.33 21.95816199553946\n",
      "0.34 21.966610650776186\n",
      "0.35000000000000003 21.97344481868776\n",
      "0.36000000000000004 21.978955019332147\n",
      "0.37 21.98338282616249\n",
      "0.38 21.98692853501587\n",
      "0.39 21.989757724662905\n",
      "0.4 21.992006855262208\n",
      "0.41000000000000003 21.99378803362847\n",
      "0.42000000000000004 21.995193058633017\n",
      "0.43 21.996296846141583\n",
      "0.44 21.99716032049843\n",
      "0.45 21.99783284854492\n",
      "0.46 21.99835428238094\n",
      "0.47000000000000003 21.998756668417887\n",
      "0.48000000000000004 21.999065672619825\n",
      "0.49 21.999301765083267\n",
      "0.5 21.999481201171875\n",
      "0.51 21.999616831215057\n",
      "0.52 21.999718766221385\n",
      "0.53 21.999794923078035\n",
      "0.54 21.999851469242273\n",
      "0.55 21.999893183921948\n",
      "0.56 21.99992375013683\n",
      "0.5700000000000001 21.99994598980378\n",
      "0.5800000000000001 21.9999620520537\n",
      "0.59 21.999973563328645\n",
      "0.6 21.99998174638899\n",
      "0.61 21.999987514152483\n",
      "0.62 21.9999915432621\n",
      "0.63 21.999994331413443\n",
      "0.64 21.999996241743364\n",
      "0.65 21.999997536970653\n",
      "0.66 21.999998405470063\n",
      "0.67 21.999998981037926\n",
      "0.68 21.99999935775816\n",
      "0.6900000000000001 21.999999601090547\n",
      "0.7000000000000001 21.999999756068583\n",
      "0.7100000000000001 21.99999985330379\n",
      "0.72 21.99999991333986\n",
      "0.73 21.999999949776683\n",
      "0.74 21.99999997148659\n",
      "0.75 21.999999984167516\n",
      "0.76 21.999999991417425\n",
      "0.77 21.9999999954672\n",
      "0.78 21.99999999767304\n",
      "0.79 21.999999998841922\n",
      "0.8 21.999999999442945\n",
      "0.81 21.99999999974192\n",
      "0.8200000000000001 21.999999999885308\n",
      "0.8300000000000001 21.99999999995134\n",
      "0.8400000000000001 21.9999999999804\n",
      "0.85 21.999999999992557\n",
      "0.86 21.999999999997357\n",
      "0.87 21.99999999999913\n",
      "0.88 21.999999999999737\n",
      "0.89 21.99999999999993\n",
      "0.9 21.999999999999982\n",
      "0.91 21.999999999999996\n",
      "0.92 22.0\n",
      "0.93 22.0\n",
      "0.9400000000000001 22.0\n",
      "0.9500000000000001 22.0\n",
      "0.9600000000000001 22.0\n",
      "0.97 22.0\n",
      "0.98 22.0\n",
      "0.99 22.0\n",
      "1.0 22.0\n"
     ]
    }
   ],
   "source": [
    "#First let's sweep and see which r gets us close to 20 \n",
    "for  i in linspace(.01,1,100):\n",
    "    milk = make_system(T_init=5, r=i, volume=50, t_end=15)\n",
    "    results = run_simulation(milk, update_func)\n",
    "    T_final = get_last_value(results.T)\n",
    "    print(i,T_final)\n"
   ]
  },
  {
   "cell_type": "markdown",
   "metadata": {},
   "source": [
    "Looks like r=.13-.17 is our range--let's make a modified sweep"
   ]
  },
  {
   "cell_type": "code",
   "execution_count": 20,
   "metadata": {},
   "outputs": [
    {
     "name": "stdout",
     "output_type": "stream",
     "text": [
      "0.13 19.895069743979544\n",
      "0.1305050505050505 19.91332469076865\n",
      "0.13101010101010102 19.93143179088039\n",
      "0.13151515151515153 19.94939215683875\n",
      "0.13202020202020204 19.96720689343565\n",
      "0.13252525252525252 19.984877097780213\n",
      "0.13303030303030303 20.002403859347744\n",
      "0.13353535353535353 20.019788260028495\n",
      "0.13404040404040404 20.037031374176063\n",
      "0.13454545454545455 20.05413426865556\n",
      "0.13505050505050506 20.071098002891482\n",
      "0.13555555555555557 20.087923628915316\n",
      "0.13606060606060608 20.10461219141286\n",
      "0.13656565656565656 20.121164727771234\n",
      "0.13707070707070707 20.137582268125694\n",
      "0.13757575757575757 20.15386583540611\n",
      "0.13808080808080808 20.170016445383173\n",
      "0.1385858585858586 20.18603510671439\n",
      "0.1390909090909091 20.20192282098974\n",
      "0.1395959595959596 20.217680582777113\n",
      "0.14010101010101011 20.23330937966745\n",
      "0.1406060606060606 20.248810192319645\n",
      "0.1411111111111111 20.264183994505178\n",
      "0.1416161616161616 20.27943175315247\n",
      "0.14212121212121212 20.29455442839099\n",
      "0.14262626262626263 20.309552973595125\n",
      "0.14313131313131314 20.324428335427733\n",
      "0.14363636363636365 20.33918145388352\n",
      "0.14414141414141415 20.35381326233209\n",
      "0.14464646464646463 20.368324687560783\n",
      "0.14515151515151514 20.382716649817265\n",
      "0.14565656565656565 20.396990062851835\n",
      "0.14616161616161616 20.411145833959488\n",
      "0.14666666666666667 20.4251848640218\n",
      "0.14717171717171718 20.43910804754843\n",
      "0.14767676767676768 20.452916272718532\n",
      "0.1481818181818182 20.466610421421798\n",
      "0.1486868686868687 20.480191369299323\n",
      "0.14919191919191918 20.493659985784213\n",
      "0.1496969696969697 20.507017134141975\n",
      "0.1502020202020202 20.5202636715106\n",
      "0.1507070707070707 20.533400448940505\n",
      "0.15121212121212121 20.54642831143415\n",
      "0.15171717171717172 20.559348097985488\n",
      "0.15222222222222223 20.572160641619135\n",
      "0.1527272727272727 20.584866769429315\n",
      "0.15323232323232322 20.597467302618636\n",
      "0.15373737373737373 20.609963056536508\n",
      "0.15424242424242424 20.622354840717467\n",
      "0.15474747474747474 20.634643458919182\n",
      "0.15525252525252525 20.646829709160286\n",
      "0.15575757575757576 20.658914383757942\n",
      "0.15626262626262627 20.670898269365217\n",
      "0.15676767676767678 20.68278214700821\n",
      "0.1572727272727273 20.694566792122995\n",
      "0.15777777777777777 20.706252974592285\n",
      "0.15828282828282828 20.717841458781947\n",
      "0.15878787878787878 20.72933300357722\n",
      "0.1592929292929293 20.740728362418785\n",
      "0.1597979797979798 20.75202828333861\n",
      "0.1603030303030303 20.763233508995512\n",
      "0.16080808080808082 20.774344776710596\n",
      "0.1613131313131313 20.785362818502456\n",
      "0.1618181818181818 20.7962883611221\n",
      "0.1623232323232323 20.80712212608777\n",
      "0.16282828282828282 20.817864829719454\n",
      "0.16333333333333333 20.828517183173275\n",
      "0.16383838383838384 20.83907989247563\n",
      "0.16434343434343435 20.8495536585571\n",
      "0.16484848484848486 20.85993917728621\n",
      "0.16535353535353536 20.87023713950296\n",
      "0.16585858585858587 20.88044823105215\n",
      "0.16636363636363635 20.89057313281649\n",
      "0.16686868686868686 20.900612520749576\n",
      "0.16737373737373737 20.910567065908555\n",
      "0.16787878787878788 20.920437434486722\n",
      "0.16838383838383839 20.930224287845814\n",
      "0.1688888888888889 20.93992828254816\n",
      "0.16939393939393937 20.949550070388625\n",
      "0.16989898989898988 20.959090298426375\n",
      "0.1704040404040404 20.96854960901642\n",
      "0.1709090909090909 20.977928639841\n",
      "0.1714141414141414 20.98722802394074\n",
      "0.17191919191919192 20.99644838974566\n",
      "0.17242424242424242 21.005590361105952\n",
      "0.17292929292929293 21.01465455732264\n",
      "0.17343434343434344 21.023641593177942\n",
      "0.17393939393939395 21.032552078965573\n",
      "0.17444444444444443 21.041386620520765\n",
      "0.17494949494949494 21.050145819250154\n",
      "0.17545454545454545 21.058830272161472\n",
      "0.17595959595959595 21.06744057189307\n",
      "0.17646464646464646 21.07597730674323\n",
      "0.17696969696969697 21.084441060699326\n",
      "0.17747474747474745 21.09283241346681\n",
      "0.17797979797979796 21.10115194049799\n",
      "0.17848484848484847 21.109400213020663\n",
      "0.17898989898989898 21.117577798066563\n",
      "0.17949494949494949 21.125685258499622\n",
      "0.18 21.133723153044073\n"
     ]
    }
   ],
   "source": [
    "for  i in linspace(.13,.18,100):\n",
    "    milk = make_system(T_init=5, r=i, volume=50, t_end=15)\n",
    "    results = run_simulation(milk, update_func)\n",
    "    T_final = get_last_value(results.T)\n",
    "    print(i,T_final)"
   ]
  },
  {
   "cell_type": "markdown",
   "metadata": {},
   "source": [
    "Looks like r=0.13303030303030303  is what we want!"
   ]
  },
  {
   "cell_type": "code",
   "execution_count": 22,
   "metadata": {},
   "outputs": [
    {
     "data": {
      "image/png": "[encoded data removed]",
      "text/plain": [
       "<Figure size 432x288 with 1 Axes>"
      ]
     },
     "metadata": {},
     "output_type": "display_data"
    }
   ],
   "source": [
    "milk = make_system(T_init=5, r=0.1330303, volume=50, t_end=15)\n",
    "results = run_simulation(milk, update_func)\n",
    "plot(results.T, label='milk')\n",
    "decorate(xlabel='Time (minutes)',\n",
    "         ylabel='Temperature (C)')"
   ]
  }
 ],
 "metadata": {
  "kernelspec": {
   "display_name": "Python 3",
   "language": "python",
   "name": "python3"
  },
  "language_info": {
   "codemirror_mode": {
    "name": "ipython",
    "version": 3
   },
   "file_extension": ".py",
   "mimetype": "text/x-python",
   "name": "python",
   "nbconvert_exporter": "python",
   "pygments_lexer": "ipython3",
   "version": "3.8.2"
  }
 },
 "nbformat": 4,
 "nbformat_minor": 2
}
